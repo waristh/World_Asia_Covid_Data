{
 "cells": [
  {
   "cell_type": "code",
   "execution_count": null,
   "metadata": {},
   "outputs": [],
   "source": [
    "import plotly.express as px"
   ]
  },
  {
   "cell_type": "code",
   "execution_count": null,
   "metadata": {},
   "outputs": [],
   "source": [
    "# #Data GeoJson Peta Indonesia\n",
    "# from urllib.request import urlopen\n",
    "# import json\n",
    "# with urlopen('https://raw.githubusercontent.com/ans-4175/peta-indonesia-geojson/master/indonesia-prov.geojson') as response:\n",
    "#     counties = json.load(response)\n",
    "\n",
    "# counties[\"features\"][2]"
   ]
  },
  {
   "cell_type": "code",
   "execution_count": null,
   "metadata": {},
   "outputs": [],
   "source": [
    "#Buat function untuk ambil data covid dunia\n",
    "import requests\n",
    "def get_json(api_url):\n",
    "    response = requests.get(api_url)\n",
    "    if response.status_code == 200:\n",
    "        return json.loads(response.content.decode('utf-8'))\n",
    "    else:\n",
    "        return None"
   ]
  },
  {
   "cell_type": "code",
   "execution_count": null,
   "metadata": {},
   "outputs": [],
   "source": [
    "#Grep data hari ini\n",
    "import datetime\n",
    "import pandas as pd\n",
    "import json\n",
    "record_date = datetime.date.today().strftime('%Y-%m-%d')\n",
    "covid_url = 'https://covid19-api.org/api/status?date='+record_date\n",
    "df_covid_worldwide = pd.io.json.json_normalize(get_json(covid_url))\n",
    "\n",
    "print(df_covid_worldwide.tail())"
   ]
  },
  {
   "cell_type": "code",
   "execution_count": null,
   "metadata": {},
   "outputs": [],
   "source": [
    "#Merubah format tanggal di kolom last_update jadi format tgl hari ini\n",
    "df_covid_worldwide['last_update'] = pd.to_datetime(df_covid_worldwide['last_update'], format='%Y-%m-%d')\n",
    "df_covid_worldwide['last_update'] = df_covid_worldwide['last_update'].apply(lambda x: x.date())\n",
    "df_covid_worldwide = df_covid_worldwide.rename(columns={'country':'alpha2'})\n",
    "print(df_covid_worldwide.head(10))"
   ]
  },
  {
   "cell_type": "code",
   "execution_count": null,
   "metadata": {},
   "outputs": [],
   "source": [
    "#Mengambil data countries\n",
    "countries_url = 'https://covid19-api.org/api/countries'\n",
    "df_countries = pd.io.json.json_normalize(get_json(countries_url))\n",
    "df_countries = df_countries.rename(columns={'alpha3': 'country_code','name':'country_name'})[['country_name','country_code','alpha2']]\n",
    "\n",
    "print(df_countries.head())"
   ]
  },
  {
   "cell_type": "code",
   "execution_count": null,
   "metadata": {},
   "outputs": [],
   "source": [
    "#menggabungkan data covid dengan data countries\n",
    "df_covid_denormalized = pd.merge(df_covid_worldwide, df_countries, on='alpha2')\n",
    "print(df_covid_denormalized.head())"
   ]
  },
  {
   "cell_type": "code",
   "execution_count": null,
   "metadata": {},
   "outputs": [],
   "source": [
    "#menambahkan kolom fatalitiy_ratio\n",
    "df_covid_denormalized['fatality_ratio'] = df_covid_denormalized['deaths']/df_covid_denormalized['cases']"
   ]
  },
  {
   "cell_type": "code",
   "execution_count": null,
   "metadata": {},
   "outputs": [],
   "source": [
    "#mengambil data 20 negara dengan top fatalitiy_ratio\n",
    "df_top_20_fatality_rate = df_covid_denormalized.sort_values(by='fatality_ratio', ascending=False).head(20)\n",
    "df_top_20_fatality_rate"
   ]
  },
  {
   "cell_type": "code",
   "execution_count": null,
   "metadata": {},
   "outputs": [],
   "source": [
    "#membuat grafik histogram 20 negara dengan top fatality_ratio\n",
    "fig = px.histogram(df_top_20_fatality_rate,x='country_name',y='fatality_ratio',color='country_name',height=1000)\n",
    "fig.show()"
   ]
  },
  {
   "cell_type": "code",
   "execution_count": null,
   "metadata": {},
   "outputs": [],
   "source": []
  },
  {
   "cell_type": "code",
   "execution_count": null,
   "metadata": {},
   "outputs": [],
   "source": []
  },
  {
   "cell_type": "markdown",
   "metadata": {},
   "source": [
    "# Data Persebaran Covid Di Dunia"
   ]
  },
  {
   "cell_type": "code",
   "execution_count": null,
   "metadata": {},
   "outputs": [],
   "source": [
    "countries = []\n",
    "for x in df_covid_worldwide.alpha2:\n",
    "    countries.append(x)\n",
    "    \n",
    "i = 0\n",
    "for country in countries:\n",
    "    covid_timeline_url = 'https://covid19-api.org/api/timeline/'+country\n",
    "    df_world_covid_timeline = pd.io.json.json_normalize(get_json(covid_timeline_url))\n",
    "    df_world_covid_timeline['last_update'] = pd.to_datetime(df_world_covid_timeline['last_update'], format='%Y-%m-%d')\n",
    "    df_world_covid_timeline['last_update'] = df_world_covid_timeline['last_update'].apply(lambda x: x.date())\n",
    "    if i==0:\n",
    "        df_world_covid_timeline_merged = df_world_covid_timeline\n",
    "    else:\n",
    "        df_world_covid_timeline_merged = df_world_covid_timeline.append(df_world_covid_timeline_merged, ignore_index=True)\n",
    "    i=i+1\n",
    "\n",
    "df_world_covid_timeline_merged = df_world_covid_timeline_merged.rename(columns={'country':'alpha2'})\n",
    "df_world_covid_timeline_denormalized = pd.merge(df_world_covid_timeline_merged , df_countries, on='alpha2')\n",
    "df_world_covid_timeline_denormalized = df_world_covid_timeline_denormalized[(df_world_covid_timeline_denormalized['last_update'] >= datetime.date(2020, 3, 1))]\n",
    "df_world_covid_timeline_denormalized.last_update = df_world_covid_timeline_denormalized.last_update.astype('str')\n",
    "df_world_covid_timeline_denormalized = df_world_covid_timeline_denormalized.sort_values(by='last_update')\n",
    "print(df_world_covid_timeline_merged.head())"
   ]
  },
  {
   "cell_type": "code",
   "execution_count": null,
   "metadata": {},
   "outputs": [],
   "source": [
    "df_world_covid_timeline_denormalized.country_code"
   ]
  },
  {
   "cell_type": "code",
   "execution_count": null,
   "metadata": {},
   "outputs": [],
   "source": [
    "# px.choropleth(df_world_covid_timeline_denormalized,locations='country_code',color='cases',hover_name='country_name',\n",
    "#               height=700,color_continuous_scale='algae',scope='asia',\n",
    "#               projection='natural earth',hover_data=df_world_covid_timeline_denormalized[['cases','deaths','recovered']])"
   ]
  },
  {
   "cell_type": "code",
   "execution_count": null,
   "metadata": {},
   "outputs": [],
   "source": [
    "px.choropleth(df_world_covid_timeline_denormalized,locations='country_code',color='cases',hover_name='country_name',\n",
    "              animation_frame='last_update',height=700,\n",
    "              projection='orthographic',hover_data=df_world_covid_timeline_denormalized[['cases','deaths','recovered']])"
   ]
  },
  {
   "cell_type": "code",
   "execution_count": null,
   "metadata": {},
   "outputs": [],
   "source": [
    "px.choropleth(df_world_covid_timeline_denormalized,locations='country_code',color='cases',hover_name='country_name',\n",
    "              animation_frame='last_update',color_continuous_scale='algae',height=700,\n",
    "              projection='natural earth',hover_data=df_world_covid_timeline_denormalized[['cases','deaths','recovered']])"
   ]
  },
  {
   "cell_type": "code",
   "execution_count": null,
   "metadata": {},
   "outputs": [],
   "source": []
  }
 ],
 "metadata": {
  "kernelspec": {
   "display_name": "Python 3",
   "language": "python",
   "name": "python3"
  },
  "language_info": {
   "codemirror_mode": {
    "name": "ipython",
    "version": 3
   },
   "file_extension": ".py",
   "mimetype": "text/x-python",
   "name": "python",
   "nbconvert_exporter": "python",
   "pygments_lexer": "ipython3",
   "version": "3.6.6"
  }
 },
 "nbformat": 4,
 "nbformat_minor": 2
}
