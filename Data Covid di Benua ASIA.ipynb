{
 "cells": [
  {
   "cell_type": "code",
   "execution_count": null,
   "metadata": {},
   "outputs": [],
   "source": [
    "import plotly.express as px\n",
    "import requests\n",
    "import datetime\n",
    "import pandas as pd\n",
    "import json"
   ]
  },
  {
   "cell_type": "code",
   "execution_count": null,
   "metadata": {},
   "outputs": [],
   "source": [
    "def get_json(api_url):\n",
    "    response = requests.get(api_url)\n",
    "    if response.status_code == 200:\n",
    "        return json.loads(response.content.decode('utf-8'))\n",
    "    else:\n",
    "        return None"
   ]
  },
  {
   "cell_type": "code",
   "execution_count": null,
   "metadata": {},
   "outputs": [],
   "source": [
    "record_date = datetime.date.today().strftime('%Y-%m-%d')\n",
    "covid_url = 'https://covid19-api.org/api/status?date='+record_date\n",
    "df_covid_worldwide = pd.io.json.json_normalize(get_json(covid_url))\n",
    "\n",
    "print(df_covid_worldwide.tail())"
   ]
  },
  {
   "cell_type": "code",
   "execution_count": null,
   "metadata": {},
   "outputs": [],
   "source": [
    "#Merubah format tanggal di kolom last_update jadi format tgl hari ini\n",
    "df_covid_worldwide['last_update'] = pd.to_datetime(df_covid_worldwide['last_update'], format='%Y-%m-%d')\n",
    "df_covid_worldwide['last_update'] = df_covid_worldwide['last_update'].apply(lambda x: x.date())\n",
    "df_covid_worldwide = df_covid_worldwide.rename(columns={'country':'alpha2'})\n",
    "print(df_covid_worldwide.head(10))"
   ]
  },
  {
   "cell_type": "code",
   "execution_count": null,
   "metadata": {},
   "outputs": [],
   "source": [
    "#Mengambil data countries\n",
    "countries_url = 'https://covid19-api.org/api/countries'\n",
    "df_countries = pd.io.json.json_normalize(get_json(countries_url))\n",
    "df_countries = df_countries.rename(columns={'alpha3': 'country_code','name':'country_name'})[['country_name','country_code','alpha2']]\n",
    "\n",
    "print(df_countries.head())"
   ]
  },
  {
   "cell_type": "code",
   "execution_count": null,
   "metadata": {},
   "outputs": [],
   "source": [
    "countries = []\n",
    "for x in df_covid_worldwide.alpha2:\n",
    "    countries.append(x)\n",
    "# countries"
   ]
  },
  {
   "cell_type": "code",
   "execution_count": null,
   "metadata": {},
   "outputs": [],
   "source": [
    "i = 0\n",
    "for country in countries:\n",
    "    covid_timeline_url = 'https://covid19-api.org/api/timeline/'+country\n",
    "    df_world_covid_timeline = pd.io.json.json_normalize(get_json(covid_timeline_url))\n",
    "    df_world_covid_timeline['last_update'] = pd.to_datetime(df_world_covid_timeline['last_update'], format='%Y-%m-%d')\n",
    "    df_world_covid_timeline['last_update'] = df_world_covid_timeline['last_update'].apply(lambda x: x.date())\n",
    "    if i==0:\n",
    "        df_world_covid_timeline_merged = df_world_covid_timeline\n",
    "    else:\n",
    "        df_world_covid_timeline_merged = df_world_covid_timeline.append(df_world_covid_timeline_merged, ignore_index=True)\n",
    "    i=i+1\n",
    "\n",
    "df_world_covid_timeline_merged = df_world_covid_timeline_merged.rename(columns={'country':'alpha2'})\n",
    "df_world_covid_timeline_denormalized = pd.merge(df_world_covid_timeline_merged , df_countries, on='alpha2')\n",
    "df_world_covid_timeline_denormalized = df_world_covid_timeline_denormalized[(df_world_covid_timeline_denormalized['last_update'] >= datetime.date(2020, 3, 1))]\n",
    "df_world_covid_timeline_denormalized.last_update = df_world_covid_timeline_denormalized.last_update.astype('str')\n",
    "df_world_covid_timeline_denormalized = df_world_covid_timeline_denormalized.sort_values(by='last_update')\n",
    "print(df_world_covid_timeline_denormalized.head())"
   ]
  },
  {
   "cell_type": "code",
   "execution_count": null,
   "metadata": {},
   "outputs": [],
   "source": [
    "fig = px.choropleth(df_world_covid_timeline_denormalized,locations='country_code',color='cases',hover_name='country_name',\n",
    "              animation_frame='last_update',color_continuous_scale='YlOrRd',height=700,scope='asia',\n",
    "              hover_data=df_world_covid_timeline_denormalized[['cases','deaths','recovered']],\n",
    "              title='Data Persebaran COVID-19 di Benua Asia Sejak 2020-03-01 s/d {}'.format(record_date))\n",
    "fig.show()"
   ]
  },
  {
   "cell_type": "code",
   "execution_count": null,
   "metadata": {},
   "outputs": [],
   "source": []
  }
 ],
 "metadata": {
  "kernelspec": {
   "display_name": "Python 3",
   "language": "python",
   "name": "python3"
  },
  "language_info": {
   "codemirror_mode": {
    "name": "ipython",
    "version": 3
   },
   "file_extension": ".py",
   "mimetype": "text/x-python",
   "name": "python",
   "nbconvert_exporter": "python",
   "pygments_lexer": "ipython3",
   "version": "3.6.6"
  }
 },
 "nbformat": 4,
 "nbformat_minor": 2
}
